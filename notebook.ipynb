{
 "cells": [
  {
   "cell_type": "markdown",
   "metadata": {},
   "source": [
    "### LangChain RAG with chat history and streaming\n",
    "\n",
    "#### Dependencies\n",
    "\n",
    "We'll use the following packages:"
   ]
  },
  {
   "cell_type": "code",
   "execution_count": 2,
   "metadata": {},
   "outputs": [
    {
     "name": "stdout",
     "output_type": "stream",
     "text": [
      "Note: you may need to restart the kernel to use updated packages.\n"
     ]
    }
   ],
   "source": [
    "%pip install --upgrade --quiet langchain langchain-community langchain-openai python-dotenv"
   ]
  },
  {
   "cell_type": "markdown",
   "metadata": {},
   "source": [
    "#### Load API keys into environment variables"
   ]
  },
  {
   "cell_type": "code",
   "execution_count": 3,
   "metadata": {},
   "outputs": [
    {
     "data": {
      "text/plain": [
       "True"
      ]
     },
     "execution_count": 3,
     "metadata": {},
     "output_type": "execute_result"
    }
   ],
   "source": [
    "from dotenv import load_dotenv\n",
    "load_dotenv()"
   ]
  },
  {
   "cell_type": "markdown",
   "metadata": {},
   "source": [
    "#### Define LLM"
   ]
  },
  {
   "cell_type": "code",
   "execution_count": 4,
   "metadata": {},
   "outputs": [],
   "source": [
    "from langchain_openai import ChatOpenAI\n",
    "\n",
    "llm = ChatOpenAI(model='gpt-4o-mini')"
   ]
  },
  {
   "cell_type": "markdown",
   "metadata": {},
   "source": [
    "#### Construct retriever and populate vector store"
   ]
  },
  {
   "cell_type": "code",
   "execution_count": 4,
   "metadata": {},
   "outputs": [
    {
     "name": "stderr",
     "output_type": "stream",
     "text": [
      "USER_AGENT environment variable not set, consider setting it to identify your requests.\n"
     ]
    }
   ],
   "source": [
    "'''\n",
    "import bs4\n",
    "from langchain_chroma import Chroma\n",
    "from langchain_community.document_loaders import WebBaseLoader\n",
    "from langchain_openai import OpenAIEmbeddings\n",
    "from langchain_text_splitters import RecursiveCharacterTextSplitter\n",
    "\n",
    "loader = WebBaseLoader(\n",
    "  web_paths=('https://lilianweng.github.io/posts/2023-06-23-agent/',),\n",
    "  bs_kwargs=dict(\n",
    "    parse_only=bs4.SoupStrainer(class_=('post-content', 'post-title', 'post-header'))\n",
    "  )\n",
    ")\n",
    "docs = loader.load()\n",
    "\n",
    "text_splitter = RecursiveCharacterTextSplitter(chunk_size=1000, chunk_overlap=200)\n",
    "splits = text_splitter.split_documents(docs)\n",
    "vectorstore = Chroma.from_documents(documents=splits, embedding=OpenAIEmbeddings())\n",
    "retriever = vectorstore.as_retriever()\n",
    "'''\n"
   ]
  },
  {
   "cell_type": "markdown",
   "metadata": {},
   "source": [
    "#### Get Pinecone vector store "
   ]
  },
  {
   "cell_type": "code",
   "execution_count": 6,
   "metadata": {},
   "outputs": [],
   "source": [
    "import os\n",
    "from langchain_pinecone import PineconeVectorStore\n",
    "from langchain_openai import OpenAIEmbeddings\n",
    "from pinecone import Pinecone\n",
    "\n",
    "model_name = 'text-embedding-ada-002'  \n",
    "index_name = 'schh'\n",
    "text_field = 'text'\n",
    "\n",
    "pc = Pinecone(api_key=os.getenv('PINECONE_API_KEY'))\n",
    "index = pc.Index(index_name)\n",
    "embeddings = OpenAIEmbeddings( model=model_name, openai_api_key=os.getenv('OPENAPI_API_KEY') )\n",
    "vectorstore = PineconeVectorStore( index, embeddings, text_field )  \n",
    "retriever = vectorstore.as_retriever()\n"
   ]
  },
  {
   "cell_type": "markdown",
   "metadata": {},
   "source": [
    "#### Contextualize question"
   ]
  },
  {
   "cell_type": "code",
   "execution_count": 7,
   "metadata": {},
   "outputs": [],
   "source": [
    "from langchain_core.prompts import ChatPromptTemplate, MessagesPlaceholder\n",
    "from langchain.chains import create_history_aware_retriever\n",
    "\n",
    "contextualize_q_system_prompt = '''Given a chat history and the latest user question \\\n",
    "which might reference context in the chat history, formulate a standalone question \\\n",
    "which can be understood without the chat history. Do NOT answer the question, \\\n",
    "just reformulate it if needed and otherwise return it as is.'''\n",
    "\n",
    "contextualize_q_prompt = ChatPromptTemplate.from_messages(\n",
    "    [\n",
    "        ('system', contextualize_q_system_prompt),\n",
    "        MessagesPlaceholder('chat_history'),\n",
    "        ('human', '{input}'),\n",
    "    ]\n",
    ")\n",
    "history_aware_retriever = create_history_aware_retriever(\n",
    "    llm, retriever, contextualize_q_prompt\n",
    ")\n"
   ]
  },
  {
   "cell_type": "markdown",
   "metadata": {},
   "source": [
    "#### Answer question"
   ]
  },
  {
   "cell_type": "code",
   "execution_count": 8,
   "metadata": {},
   "outputs": [],
   "source": [
    "from langchain.chains.combine_documents import create_stuff_documents_chain\n",
    "from langchain.chains import create_retrieval_chain\n",
    "\n",
    "system_prompt = '''You are an assistant for question-answering tasks. \\\n",
    "Use the following pieces of retrieved context to answer the question. \\\n",
    "If you don't know the answer, just say that you don't know. \\\n",
    "Use three sentences maximum and keep the answer concise.\\\n",
    "\n",
    "{context}'''\n",
    "\n",
    "qa_prompt = ChatPromptTemplate.from_messages(\n",
    "  [\n",
    "    ('system', system_prompt),\n",
    "    MessagesPlaceholder(variable_name='chat_history'),\n",
    "    ('human', '{input}'),\n",
    "  ]\n",
    ")\n",
    "\n",
    "question_answer_chain = create_stuff_documents_chain(llm, qa_prompt)\n",
    "\n",
    "rag_chain = create_retrieval_chain(history_aware_retriever, question_answer_chain)\n"
   ]
  },
  {
   "cell_type": "markdown",
   "metadata": {},
   "source": [
    "#### Statefully manage chat history"
   ]
  },
  {
   "cell_type": "code",
   "execution_count": 9,
   "metadata": {},
   "outputs": [],
   "source": [
    "\n",
    "import json\n",
    "from langchain_core.runnables.history import RunnableWithMessageHistory\n",
    "from langchain_core.chat_history import BaseChatMessageHistory\n",
    "from langchain_community.chat_message_histories import ChatMessageHistory\n",
    "\n",
    "store = {}\n",
    "\n",
    "def get_session_history(session_id: str) -> BaseChatMessageHistory:\n",
    "    if session_id not in store:\n",
    "        store[session_id] = ChatMessageHistory()\n",
    "    return store[session_id]\n",
    "\n",
    "conversational_rag_chain = RunnableWithMessageHistory(\n",
    "    rag_chain,\n",
    "    get_session_history,\n",
    "    input_messages_key='input',\n",
    "    history_messages_key='chat_history',\n",
    "    output_messages_key='answer',\n",
    ").with_config(tags=['main_chain'])\n",
    "\n",
    "def print_response(resp):\n",
    "  as_dict = {\n",
    "    'input': resp['input'],\n",
    "    'chat_history': [doc.model_dump() for doc in resp['chat_history']],\n",
    "    'context': [doc.model_dump() for doc in resp['context']],\n",
    "    'answer': resp['answer']\n",
    "  }\n",
    "  print(json.dumps(as_dict, indent=2) + '\\n')"
   ]
  },
  {
   "cell_type": "markdown",
   "metadata": {},
   "source": [
    "#### Output streamer"
   ]
  },
  {
   "cell_type": "code",
   "execution_count": 8,
   "metadata": {},
   "outputs": [],
   "source": [
    "from langchain_core.messages import AIMessageChunk\n",
    "\n",
    "async def generate_chat_events(message, session_id):\n",
    "  \n",
    "  def serialize_aimessagechunk(chunk):\n",
    "    if isinstance(chunk, AIMessageChunk):\n",
    "      return chunk.content\n",
    "    else:\n",
    "      raise TypeError(f'Object of type {type(chunk).__name__} is not correctly formatted for serialization')\n",
    "  \n",
    "  try:\n",
    "    async for event in conversational_rag_chain.astream_events(message, version='v1', config={'configurable': {'session_id': session_id}} ):\n",
    "      # print(event['tags'], event['event'], event.get('data',{}).get('chunk'))\n",
    "      # Only get the answer\n",
    "      sources_tags = ['seq:step:3', 'main_chain']\n",
    "      if all(value in event['tags'] for value in sources_tags) and event['event'] == 'on_chat_model_stream':\n",
    "        chunk_content = serialize_aimessagechunk(event['data']['chunk'])\n",
    "        if len(chunk_content) != 0:\n",
    "          yield chunk_content\n",
    "          \n",
    "  except Exception as e:\n",
    "    print('error'+ str(e))"
   ]
  },
  {
   "cell_type": "markdown",
   "metadata": {},
   "source": [
    "#### Example usage"
   ]
  },
  {
   "cell_type": "code",
   "execution_count": null,
   "metadata": {},
   "outputs": [
    {
     "name": "stdout",
     "output_type": "stream",
     "text": [
      "[{'id': 'cab7f815e68e092bf8e226b8f9da90377752a03cf9598174708477b6da6c5825', 'metadata': {}, 'page_content': \"['Rev. 4.26.2024\\\\nCO MMUNITY ASSOCIATIO N\\\\nFREQUENTLY ASKED QUESTIONS\\\\nQ. What modifications require an application? \\\\nA. All exterior changes being made to a home require an application. The following \\\\nmodifications have applications that can be completed online: driveways, exterior paint and \\\\nsiding, garage doors (including privacy screens), roofs and roof enhancements, storm doors, \\\\nglass doors and front doors, trees and windows. All other applications must be submitted in \\\\nperson. \\\\nQ. Where can I find a modification application? \\\\nA. Applications that can be submitted online can be found on the Modifcations page of  \\\\nwww.SunCityHiltonHead.org. Hard copy forms can be downloaded on the Forms page \\\\nlocated under the Community Library tile of Resident Central. Applications are also available \\\\nat Palmetto Commons. \\\\nQ. Where can I find guidelines for any changes and fees associated with an application?\\\\nA. The Design Guidelines for both Sun City and Riverbend and the Schedule of \\\\nFees and Community Rules can be found on the Governing Documents page of                             \\\\nwww.SunCityHiltonHead.org. Homeowners in a managed neighborhood should also check \\\\nwith Managed Neighborhoods for any further restrictions. \\\\nQ. I have questions about how to fill the application out. How can I reach a Modifications \\\\nCoordinator?\\\\nA. The Modifications team can be reached at (843)705-4000 or by email at  \\\\nmodifications@schhca.com.\\\\nQ. Can my contractor submit an application for me?\\\\nA. Applications will not be accepted from contractors without prior written authorization \\\\nfrom the homeowner. \\\\nQ. Can I drop off a hard copy application at Palmetto Commons, or do I need to make an \\\\nappointment?\\\\nA. We are happy to accept your hard copy application at Palmetto Commons. Please check \\\\nthe back of SunSations magazine for current hours. No appointment is required. If you choose \\\\nto drop off an application, please do not apply online. Submitting a hard copy and an online \\\\napplication will delay the approval process.\\\\nQ. My color printer is not working properly. How do I submit a color photo to go with my \\\\napplication?\\\\nA. Any store with photo printing, such as CVS, Walgreens, Staples, etc., will be able to print \\\\ncolor photos for you.\\\\nMODIFICATION APPLICATION', '']\", 'type': 'Document'}, {'id': '39c798f5d993c00a1ed3e6052e1c1c5735f4a4c3591cc105c88f46a8fb703b1a', 'metadata': {}, 'page_content': \"['Design Guidelines | Rev. 12.18.2024 \\\\n4\\\\n2.1.6 Leased and Unoccupied Property\\\\nWith respect to the Design Guidelines, homeowners are responsible for the actions of their lessees and shall sign \\\\napplications for modification requests for their property. Nonresident owners are still responsible for compliance \\\\nwith all guidelines. Absence from the area does not relieve the homeowner from the responsibility to promptly \\\\ncorrect any noncompliance with the Design Guidelines. \\\\n3. Reviewing Body and Residential Property Owner Requirements \\\\n3.1 Reviewing Body\\\\nArticle XI of the CC&Rs establishes procedures and policies to maintain the integrity of the architectural and \\\\ndesign character of Sun City Hilton Head, including review and appointment of related committees. Until one \\\\nhundred percent (100%) of the Properties have been developed and conveyed to homeowners, the Declarant has \\\\nexclusive authority to administer and enforce architectural controls and to review and act on all applications for \\\\noriginal construction within Sun City Hilton Head. This right can only be surrendered prior to that time by a \\\\nrecorded written instrument executed by the Declarant.                                                                   \\\\nThe CC&Rs directs the Board to establish a Modifications Committee to have exclusive jurisdiction over \\\\nmodifications, additions, or alterations to existing structures on lots and the adjacent open space. The Board has \\\\nthe right to veto an action taken by the Modifications Committee which the Board determines, in its sole \\\\ndiscretion, to be inconsistent with the Design Guidelines. For purposes of these Design Guidelines, the \\\\n“Reviewing Body” refers either to the Modifications Committee or the Community Standards Modification \\\\nDepartment as appropriate under the circumstances.\\\\n3.2 Homeowner Responsibilities\\\\nHomeowners shall comply with these Design Guidelines in addition to CC&Rs, Board Policies, Schedule of Fees \\\\nand Community Rules and any applicable Supplemental CC&Rs. Homeowners shall submit plans (described \\\\nbelow) and receive written approval from the Reviewing Body prior to performing any of the work outlined.  \\\\n3.2.1 Work Performed by Contractors\\\\nHomeowners are responsible for the timely completion of modification projects per the approved application. \\\\nFailure of contractors or other agents to complete work on time or performing work at variance with the approved \\\\nplans will result in Community Association action against the homeowner and possible exclusion of the contractor \\\\nfrom the property as outlined in Article XI: Architectural and Design Standards of the CC&Rs. The \\\\nModifications Committee does not deal with homeowner’s contractors nor intervene in disputes between \\\\nhomeowners and their contractors. Homeowners are cautioned to select their contractors carefully and monitor \\\\ntheir performance for both timeliness and adherence to the approved plans.\\\\n3.2.2 Timely Completion\\\\nOn-time completion of approved work is essential to minimize neighborhood disruption and lingering \\\\n“construction zone” appearance. If work is not completed prior to the expiration of the approval notice and \\\\nextension requests have not been granted, the homeowner is conducting modifications without a valid approval \\\\nand is subject to enforcement action.\\\\n3.2.2.1 Modification Extension Request\\\\nIf a modification is not completed in 120 days from the Notice to Proceed date, Homeowners must apply for a \\\\n30-day expiration date extension. \\\\n3.3 Modification Application Requirements\\\\n3.3.1 Application Forms\\\\nThe Community Standards Department will provide modification application forms for homeowner use, some \\\\napplications may be found online. In addition to the basic application form, additional forms may be required for \\\\nspecific projects such as house painting, swimming pools, and satellite antennas. Each form contains a list of \\\\nrequired attachments to be included with the application. Homeowners may obtain copies of needed forms at no \\\\ncharge from the Community Standards Department or on the Sun City Hilton Head website,', '']\", 'type': 'Document'}, {'id': 'c71463a350461b21ea51bd07da2bfa289dde3208e3c1dc405c73dae8ef231b6c', 'metadata': {}, 'page_content': '[\"Design Guidelines | Rev. 12.18.2024\\\\n7\\\\n4.2 Notification \\\\nHomeowners will be notified of the Modifications Committee’s decision in writing or by electronic means. \\\\n• The notification will be mailed by standard U.S. Mail to homeowners who request in writing notification at an \\\\naddress outside of Sun City Hilton Head. \\\\n• For homeowners residing within Sun City Hilton Head, the notification will be by electronic means or delivered \\\\nto the lower (personal) box located below the homeowner’s U.S. mailbox.\\\\n•  If no lower mailbox is available, then notification will be sent by U.S Postal Service or by electronic means. This \\\\ndelivery constitutes “personal delivery” as discussed in the CC&Rs in Notice to Applicant.\\\\n4.3 Modifications Committee Reconsideration\\\\nHomeowners may request reconsideration by resubmitting their applications with changes or additional \\\\ninformation as noted below:\\\\na) Resubmitted applications shall include changes to correct all previous committee objections. Revisions shall be \\\\nclearly identified on the application materials with the revision date indicated.\\\\nb) If applications are resubmitted without changes, they shall include additional information or clarification that \\\\nwas not included in the previous application that will substantiate that the proposed modification meets all \\\\nguidelines.\\\\nc) The Modifications Committee will decide on revised applications based on the revised documents submitted.\\\\n4.4 Appeals to the Board of Directors\\\\nHomeowners may appeal decisions of the Modifications Committee, in writing, to the Board in accordance with \\\\nprocedures established by the Board. Such appeals shall be submitted in writing to the Community Standards \\\\nModification Department for the Board\\'s consideration.\\\\n5. Non-Liability for the Approval of Plans \\\\n5.1 Non-Liability Disclaimer \\\\nArticle 11.7 of the CC&Rs states, “Review and approval of any application pursuant to this Article is made on the \\\\nbasis of aesthetic considerations only and neither the Declarant, the Association, the Board, nor the Modifications \\\\nCommittee shall bear any responsibility for ensuring the structural integrity or soundness of approved \\\\nconstruction or modifications, or for ensuring compliance with building codes and other governmental \\\\nrequirements. Neither the Declarant, the Association, the Board, nor the Modifications Committee, nor any \\\\nmember, director, officer, or authorized agent of any of the foregoing shall be held liable for any injury, damages, or \\\\nloss arising out of the manner or quality of approved construction on or modifications to any Lot. In all matters, \\\\nthe foregoing shall be defended and indemnified by the Association as provided in this Declaration or the \\\\nBylaws.”\\\\n5.1.1 No Guarantee of Suitability or Safety \\\\nHomeowners are cautioned that all modifications to property are at the homeowner’s risk. \\\\n5.1.2 Effect of Modifications on House Warranty \\\\nHomeowners are responsible for verifying the effect of any proposed modifications on any existing warranty. \\\\n6. Residential Design Guidelines \\\\n6.1 Introduction\\\\nThis section contains specific guidance and limitations for external changes to Sun City Hilton Head residences \\\\nand lots. All modifications to residences and lots require advance approval as set forth in Section 1.5 Required \\\\nApprovals . Proposed modifications will be reviewed for approval to ensure the requested changes are in harmony \\\\nwith the individual and neighboring properties. This article contains both general guidelines, such as size \\\\nlimitations and setback requirements, and specific guidelines. It also contains restrictions on certain house \\\\nmodifications, limits on quantities or size of certain exterior items and prohibits some types of modifications. \\\\nHomeowners should familiarize themselves with this article before submitting a modification request.\", \\'\\']', 'type': 'Document'}, {'id': '894dd03f4394d9ecb5f7948f8b86c1dcbe2d6cab18d12b8709e0e7a4eec3f51b', 'metadata': {}, 'page_content': \"['Design Guidelines | Rev. 12.18.2024\\\\n5\\\\nwww.SunCityHiltonHead.org . Forms will be revised as needed to improve the efficiency and accuracy of the \\\\nmodification process. Staff members will assist and advise homeowners who have questions about preparing \\\\nmodification applications. \\\\n3.3.1.2 Complete Package Required\\\\nHomeowners shall fill out application forms completely and attach any required documents such as elevations, \\\\nplans, plot plans, photos, material samples and product information/specifications.\\\\n3.3.1.3 Applications Shall Be Self Supporting\\\\nReview decisions will be based on the information included in the application package. Incomplete packages will \\\\nbe returned to the homeowner for resubmission. Homeowners with particularly complex projects may obtain \\\\nadvice from the Community Standards Modification Department staff prior to submission. Applications that \\\\nrequire revision or additional information will be returned to the homeowner with the Modifications Committee’s \\\\nreview comments. In some instances, the chairperson may direct a visit by committee members to obtain \\\\nadditional site information or clarify details prior to a committee vote on the proposed modification.\\\\n3.3.1.4 Plot Plans\\\\nScaled plot plans (identifying how the proposed modification will be imposed on the lot may be required for all \\\\napplications). Elevations (identifying how the proposed modification will look upon completion) may also be \\\\nrequired. Original homeowners should ensure that they retain their original developer plot plan copies. Previous \\\\nadditions shall be clearly identified on the plot plan and included with any applications for future modifications. \\\\nHomeowners may request copies of plot plans for their lot from the Community Standards Department when \\\\navailable. \\\\n3.3.1.5 Multiple Items on a Single Application\\\\nEach application shall contain only those items related to a single project. Homeowners shall submit separate \\\\napplications for unrelated modifications. \\\\n3.3.1.6 Incomplete Applications\\\\nIncomplete applications will be returned to the homeowner for revision. Processing time standards do not \\\\ncommence until a complete application is received.\\\\n3.3.1.7 Signature and Submission\\\\nApplications must be signed and submitted by the homeowner, in person or by mail, to the Community Standards \\\\nDepartment. Submissions not signed by the homeowner will not be accepted from a contractor.\\\\n3.3.1.8 Changes to Approved Applications\\\\nAny changes to an approved modification must be submitted to the Community Standards Modification \\\\nDepartment for approval prior to implementation. Unapproved changes may result in the costly rework of the \\\\nproject and fines.\\\\n3.4 Application Processing                                                                          \\\\n3.4.1 Fees\\\\nWhen required per the Schedule of Fees and Community Rules, fees are payable at the time of application \\\\nsubmission. Applications received without required fees will not be processed. Revised applications, if resubmitted \\\\nwithin 45 days, do not require an additional application fee.\\\\n3.4.2 Application Review \\\\nAfter an application is submitted, a Modifications Coordinator will be assigned to review the application and \\\\ncoordinate with the homeowner to complete the process.', '']\", 'type': 'Document'}]\n"
     ]
    },
    {
     "data": {
      "text/plain": [
       "'Modifications are requested by completing an application form and attaching required documents such as plans and photos. The application must be signed by the homeowner and submitted either in person or by mail to the Community Standards Department. Ensuring the application is complete is crucial to avoid delays in processing.'"
      ]
     },
     "execution_count": 15,
     "metadata": {},
     "output_type": "execute_result"
    }
   ],
   "source": [
    "prompt_1 = 'How are modifications requested?'\n",
    "sessionid = 'abc123'\n",
    "\n",
    "conversational_rag_chain.invoke(\n",
    "    {'input': prompt_1},\n",
    "    config={\n",
    "        'configurable': {'session_id': sessionid}\n",
    "    },\n",
    ")['answer']"
   ]
  },
  {
   "cell_type": "code",
   "execution_count": 12,
   "metadata": {},
   "outputs": [
    {
     "data": {
      "text/plain": [
       "'Yes, if an application is denied, homeowners can revise the application or appeal the decision by contacting the Modifications Coordinator listed in their denial letter for next steps.'"
      ]
     },
     "execution_count": 12,
     "metadata": {},
     "output_type": "execute_result"
    }
   ],
   "source": [
    "prompt_2 = 'Is there an appeal process for this?'\n",
    "\n",
    "conversational_rag_chain.invoke(\n",
    "    {'input': prompt_2},\n",
    "    config={'configurable': {'session_id': sessionid}},\n",
    ")[\"answer\"]"
   ]
  },
  {
   "cell_type": "markdown",
   "metadata": {},
   "source": [
    "#### Example usage with streaming output"
   ]
  },
  {
   "cell_type": "code",
   "execution_count": 11,
   "metadata": {},
   "outputs": [
    {
     "name": "stdout",
     "output_type": "stream",
     "text": [
      "Task\n",
      " decomposition\n",
      " is\n",
      " the\n",
      " process\n",
      " of\n",
      " breaking\n",
      " down\n",
      " a\n",
      " complex\n",
      " task\n",
      " into\n",
      " smaller\n",
      ",\n",
      " simpler\n",
      " steps\n",
      " to\n",
      " make\n",
      " it\n",
      " more\n",
      " manageable\n",
      ".\n",
      " This\n",
      " approach\n",
      " enhances\n",
      " model\n",
      " performance\n",
      " by\n",
      " allowing\n",
      " for\n",
      " structured\n",
      " reasoning\n",
      " and\n",
      " easier\n",
      " execution\n",
      " of\n",
      " tasks\n",
      ".\n",
      " Techniques\n",
      " such\n",
      " as\n",
      " Chain\n",
      " of\n",
      " Thought\n",
      " (\n",
      "Co\n",
      "T\n",
      ")\n",
      " and\n",
      " Tree\n",
      " of\n",
      " Thoughts\n",
      " are\n",
      " commonly\n",
      " used\n",
      " to\n",
      " facilitate\n",
      " this\n",
      " process\n",
      ".\n"
     ]
    }
   ],
   "source": [
    "async for event in generate_chat_events({'input': prompt_1, 'chat_history': []}, sessionid):\n",
    "    print(event)\n"
   ]
  },
  {
   "cell_type": "markdown",
   "metadata": {},
   "source": [
    "#### Using with FastAPI"
   ]
  },
  {
   "cell_type": "code",
   "execution_count": null,
   "metadata": {},
   "outputs": [],
   "source": [
    "from fastapi import FastAPI\n",
    "from fastapi.responses import StreamingResponse, Response, FileResponse\n",
    "from fastapi.middleware.cors import CORSMiddleware\n",
    "from typing import Optional\n",
    "import secrets\n",
    "\n",
    "app = FastAPI()\n",
    "app.add_middleware(CORSMiddleware, allow_origins=['*'], allow_credentials=True, allow_methods=['*'], allow_headers=['*'])\n",
    "\n",
    "@app.get('/')\n",
    "async def root():\n",
    "  return FileResponse('index.html')\n",
    "\n",
    "@app.get('/chat/{prompt}')\n",
    "async def chat(prompt: str, sessionid: Optional[str] = None, stream: Optional[bool] = False):\n",
    "    sessionid = sessionid or secrets.token_hex(4) # Generates 4 bytes, resulting in an 8-character hex string\n",
    "\n",
    "    if stream:\n",
    "        return StreamingResponse(generate_chat_events({'input': prompt, 'chat_history': []}, sessionid), media_type='text/event-stream')\n",
    "    else:\n",
    "        resp = conversational_rag_chain.invoke({'input': prompt}, config={'configurable': {'session_id': sessionid}}, )\n",
    "        # print(json.dumps(store[sessionid].model_dump(), indent=2))\n",
    "        # print_response(resp)\n",
    "        return Response(status_code=200, content=resp['answer'], media_type='text/plain')\n"
   ]
  },
  {
   "cell_type": "markdown",
   "metadata": {},
   "source": []
  }
 ],
 "metadata": {
  "kernelspec": {
   "display_name": ".venv",
   "language": "python",
   "name": "python3"
  },
  "language_info": {
   "codemirror_mode": {
    "name": "ipython",
    "version": 3
   },
   "file_extension": ".py",
   "mimetype": "text/x-python",
   "name": "python",
   "nbconvert_exporter": "python",
   "pygments_lexer": "ipython3",
   "version": "3.9.13"
  }
 },
 "nbformat": 4,
 "nbformat_minor": 2
}
