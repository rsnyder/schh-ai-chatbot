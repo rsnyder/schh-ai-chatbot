{
 "cells": [
  {
   "cell_type": "markdown",
   "metadata": {},
   "source": [
    "# Vector testing"
   ]
  },
  {
   "cell_type": "markdown",
   "metadata": {},
   "source": [
    "### Install needed packages"
   ]
  },
  {
   "cell_type": "code",
   "execution_count": 85,
   "metadata": {},
   "outputs": [
    {
     "name": "stdout",
     "output_type": "stream",
     "text": [
      "Note: you may need to restart the kernel to use updated packages.\n"
     ]
    }
   ],
   "source": [
    "%pip install --upgrade --quiet langchain langchain-community langchain-openai python-dotenv requests"
   ]
  },
  {
   "cell_type": "code",
   "execution_count": 43,
   "metadata": {},
   "outputs": [],
   "source": [
    "llm_model_name = 'gpt-4o'\n",
    "# embeddings_model_name = 'text-embedding-ada-002'  \n",
    "vectorstore_index_name = 'schh'\n",
    "vectorstore_text_field = 'text'"
   ]
  },
  {
   "cell_type": "markdown",
   "metadata": {},
   "source": [
    "### Load API keys into environment variables"
   ]
  },
  {
   "cell_type": "code",
   "execution_count": 44,
   "metadata": {},
   "outputs": [
    {
     "data": {
      "text/plain": [
       "True"
      ]
     },
     "execution_count": 44,
     "metadata": {},
     "output_type": "execute_result"
    }
   ],
   "source": [
    "from dotenv import load_dotenv\n",
    "load_dotenv()"
   ]
  },
  {
   "cell_type": "markdown",
   "metadata": {},
   "source": [
    "#### Define embeddings"
   ]
  },
  {
   "cell_type": "code",
   "execution_count": 4,
   "metadata": {},
   "outputs": [
    {
     "name": "stderr",
     "output_type": "stream",
     "text": [
      "/var/folders/19/5vtdrt7j6sldr17bp67lvcqw0000gn/T/ipykernel_32739/949719190.py:5: LangChainDeprecationWarning: The class `OpenAIEmbeddings` was deprecated in LangChain 0.0.9 and will be removed in 1.0. An updated version of the class exists in the :class:`~langchain-openai package and should be used instead. To use it run `pip install -U :class:`~langchain-openai` and import as `from :class:`~langchain_openai import OpenAIEmbeddings``.\n",
      "  embeddings = OpenAIEmbeddings( openai_api_key=os.getenv('OPENAPI_API_KEY') )\n"
     ]
    }
   ],
   "source": [
    "import os\n",
    "from langchain.embeddings import OpenAIEmbeddings\n",
    "\n",
    "# embeddings = OpenAIEmbeddings( model=embeddings_model_name, openai_api_key=os.getenv('OPENAPI_API_KEY') )\n",
    "embeddings = OpenAIEmbeddings( openai_api_key=os.getenv('OPENAPI_API_KEY') )"
   ]
  },
  {
   "cell_type": "markdown",
   "metadata": {},
   "source": [
    "#### Load PDF content into local vectorstore"
   ]
  },
  {
   "cell_type": "code",
   "execution_count": 56,
   "metadata": {},
   "outputs": [
    {
     "name": "stdout",
     "output_type": "stream",
     "text": [
      "Pages: 48\n",
      "Splits: 196\n"
     ]
    }
   ],
   "source": [
    "from langchain_chroma import Chroma\n",
    "from langchain_community.document_loaders import PyPDFLoader\n",
    "from langchain_text_splitters import RecursiveCharacterTextSplitter\n",
    "from langchain_openai import OpenAIEmbeddings\n",
    "\n",
    "loader = PyPDFLoader('https://rsnyder.github.io/schh-ai-chatbot/knowledge-base/pdfs/2025ScheduleofFees-websingle.pdf')\n",
    "pages = loader.load()\n",
    "print(f\"Pages: {len(pages)}\")\n",
    "\n",
    "text_splitter = RecursiveCharacterTextSplitter(chunk_size=1000, chunk_overlap=200)\n",
    "splits = text_splitter.split_documents(pages)\n",
    "print(f\"Splits: {len(splits)}\")\n",
    "vectorstore = Chroma.from_documents(documents=splits, embedding=OpenAIEmbeddings())\n",
    "retriever = vectorstore.as_retriever()"
   ]
  },
  {
   "cell_type": "markdown",
   "metadata": {},
   "source": [
    "#### Load PDF into Pinecone vectorstore"
   ]
  },
  {
   "cell_type": "code",
   "execution_count": null,
   "metadata": {},
   "outputs": [
    {
     "name": "stdout",
     "output_type": "stream",
     "text": [
      "Pages 48\n",
      "Splits: 196\n",
      "Adding data to Pinecone index...\n",
      "Data added to Pinecone index\n"
     ]
    }
   ],
   "source": [
    "from langchain_community.document_loaders import PyPDFLoader\n",
    "from pinecone import Pinecone\n",
    "import hashlib, os\n",
    "    \n",
    "def generate_short_id(content: str) -> str:\n",
    "    hash_obj = hashlib.sha256()\n",
    "    hash_obj.update(content.encode('utf-8'))\n",
    "    return hash_obj.hexdigest()\n",
    "\n",
    "loader = PyPDFLoader('https://rsnyder.github.io/schh-ai-chatbot/knowledge-base/pdfs/2025ScheduleofFees-websingle.pdf')\n",
    "pages = loader.load()\n",
    "print (f'Pages {len(pages)}')\n",
    "\n",
    "text_splitter = RecursiveCharacterTextSplitter(chunk_size=1000, chunk_overlap=200)\n",
    "docs = text_splitter.split_documents(pages)\n",
    "print(f'Splits: {len(docs)}')\n",
    "\n",
    "doc_embeddings = embeddings.embed_documents([doc.page_content for doc in docs])\n",
    "    \n",
    "data_with_metadata = []\n",
    "\n",
    "for doc, embedding in zip(docs, doc_embeddings):\n",
    "    # Create a data item dictionary\n",
    "    data_item = {\n",
    "        'id': generate_short_id(doc.page_content),\n",
    "        'values': embedding,\n",
    "        'metadata': {'text': doc.page_content},  # Include the text as metadata\n",
    "    }\n",
    "    data_with_metadata.append(data_item)  # Append the data item to the list\n",
    "\n",
    "# print(data_with_metadata)\n",
    "print('Adding data to Pinecone index...')\n",
    "pc = Pinecone(api_key=os.getenv('PINECONE_API_KEY'))\n",
    "index = pc.Index(vectorstore_index_name)\n",
    "index.upsert(vectors=data_with_metadata)\n",
    "print('Data added to Pinecone index')\n",
    "    "
   ]
  },
  {
   "cell_type": "markdown",
   "metadata": {},
   "source": [
    "#### Load Markdown into Pinecone vectorstore"
   ]
  },
  {
   "cell_type": "code",
   "execution_count": null,
   "metadata": {},
   "outputs": [
    {
     "name": "stdout",
     "output_type": "stream",
     "text": [
      "docs=206\n",
      "Adding data to Pinecone index...\n",
      "Data added to Pinecone index\n"
     ]
    }
   ],
   "source": [
    "from langchain_text_splitters import MarkdownHeaderTextSplitter\n",
    "from pinecone import Pinecone\n",
    "import hashlib\n",
    "import requests\n",
    "    \n",
    "def generate_short_id(content: str) -> str:\n",
    "    hash_obj = hashlib.sha256()\n",
    "    hash_obj.update(content.encode('utf-8'))\n",
    "    return hash_obj.hexdigest()\n",
    "\n",
    "markdown = requests.get('https://rsnyder.github.io/schh-ai-chatbot/knowledge-base/2025_Schedule_of_Fees_and_Community-Rules.md').text\n",
    "\n",
    "# MD splits\n",
    "md_header_splits = MarkdownHeaderTextSplitter(\n",
    "    headers_to_split_on = [ ('#', 'Header 1'), ('##', 'Header 2') ], \n",
    "    strip_headers=False\n",
    ").split_text(markdown)\n",
    "\n",
    "# Char-level splits\n",
    "docs = RecursiveCharacterTextSplitter(\n",
    "    chunk_size=1000, \n",
    "    chunk_overlap=200\n",
    ").split_documents(md_header_splits)\n",
    "\n",
    "doc_embeddings = embeddings.embed_documents([doc.page_content for doc in docs])\n",
    "    \n",
    "data_with_metadata = []\n",
    "\n",
    "for doc, embedding in zip(docs, doc_embeddings):\n",
    "    # Create a data item dictionary\n",
    "    data_item = {\n",
    "        'id': generate_short_id(doc.page_content),\n",
    "        'values': embedding,\n",
    "        'metadata': doc.metadata | {'text': doc.page_content},  # add text as metadata\n",
    "    }\n",
    "    data_with_metadata.append(data_item)  # Append the data item to the list\n",
    "\n",
    "print('Adding data to Pinecone index...')\n",
    "pc = Pinecone(api_key=os.getenv('PINECONE_API_KEY'))\n",
    "index = pc.Index(vectorstore_index_name)\n",
    "index.upsert(vectors=data_with_metadata)\n",
    "print('Data added to Pinecone index')"
   ]
  },
  {
   "cell_type": "markdown",
   "metadata": {},
   "source": [
    "#### Get Vector Store"
   ]
  },
  {
   "cell_type": "code",
   "execution_count": 46,
   "metadata": {},
   "outputs": [],
   "source": [
    "from langchain_pinecone import PineconeVectorStore\n",
    "\n",
    "pc = Pinecone(api_key=os.getenv('PINECONE_API_KEY'))\n",
    "index = pc.Index(vectorstore_index_name)\n",
    "\n",
    "vectorstore = PineconeVectorStore( index, embeddings, vectorstore_text_field )\n",
    "retriever = vectorstore.as_retriever(search_kwargs={'k': 5})"
   ]
  },
  {
   "cell_type": "markdown",
   "metadata": {},
   "source": [
    "#### Define LLM"
   ]
  },
  {
   "cell_type": "code",
   "execution_count": 47,
   "metadata": {},
   "outputs": [],
   "source": [
    "from langchain_openai import ChatOpenAI\n",
    "\n",
    "llm = ChatOpenAI(model=llm_model_name)"
   ]
  },
  {
   "cell_type": "markdown",
   "metadata": {},
   "source": [
    "#### Contextualize question"
   ]
  },
  {
   "cell_type": "code",
   "execution_count": 48,
   "metadata": {},
   "outputs": [],
   "source": [
    "from langchain_core.prompts import ChatPromptTemplate, MessagesPlaceholder\n",
    "from langchain.chains import create_history_aware_retriever\n",
    "\n",
    "contextualize_q_system_prompt = '''Given a chat history and the latest user question \\\n",
    "which might reference context in the chat history, formulate a standalone question \\\n",
    "which can be understood without the chat history. Do NOT answer the question, \\\n",
    "just reformulate it if needed and otherwise return it as is.'''\n",
    "\n",
    "contextualize_q_prompt = ChatPromptTemplate.from_messages(\n",
    "    [\n",
    "        ('system', contextualize_q_system_prompt),\n",
    "        MessagesPlaceholder('chat_history'),\n",
    "        ('human', '{input}'),\n",
    "    ]\n",
    ")\n",
    "history_aware_retriever = create_history_aware_retriever(\n",
    "    llm, retriever, contextualize_q_prompt\n",
    ")"
   ]
  },
  {
   "cell_type": "markdown",
   "metadata": {},
   "source": [
    "#### Answer question"
   ]
  },
  {
   "cell_type": "code",
   "execution_count": 49,
   "metadata": {},
   "outputs": [],
   "source": [
    "from langchain.chains.combine_documents import create_stuff_documents_chain\n",
    "from langchain.chains import create_retrieval_chain\n",
    "from langchain_core.prompts import ChatPromptTemplate, MessagesPlaceholder\n",
    "\n",
    "system_prompt = '''You are an assistant for question-answering tasks. \\\n",
    "Use the following pieces of retrieved context to answer the question. \\\n",
    "If you don't know the answer, just say that you don't know. \\\n",
    "\n",
    "{context}'''\n",
    "\n",
    "qa_prompt = ChatPromptTemplate.from_messages(\n",
    "  [\n",
    "    ('system', system_prompt),\n",
    "    MessagesPlaceholder(variable_name='chat_history'),\n",
    "    ('human', '{input}'),\n",
    "  ]\n",
    ")\n",
    "\n",
    "question_answer_chain = create_stuff_documents_chain(llm, qa_prompt)\n",
    "\n",
    "rag_chain = create_retrieval_chain(history_aware_retriever, question_answer_chain)\n"
   ]
  },
  {
   "cell_type": "markdown",
   "metadata": {},
   "source": [
    "#### Statefully manage chat history"
   ]
  },
  {
   "cell_type": "code",
   "execution_count": 50,
   "metadata": {},
   "outputs": [],
   "source": [
    "import json\n",
    "from langchain_core.runnables.history import RunnableWithMessageHistory\n",
    "from langchain_core.chat_history import BaseChatMessageHistory\n",
    "from langchain_community.chat_message_histories import ChatMessageHistory\n",
    "\n",
    "store = {}\n",
    "\n",
    "def get_session_history(session_id: str) -> BaseChatMessageHistory:\n",
    "    if session_id not in store:\n",
    "        store[session_id] = ChatMessageHistory()\n",
    "    return store[session_id]\n",
    "\n",
    "conversational_rag_chain = RunnableWithMessageHistory(\n",
    "    rag_chain,\n",
    "    get_session_history,\n",
    "    input_messages_key='input',\n",
    "    history_messages_key='chat_history',\n",
    "    output_messages_key='answer',\n",
    ").with_config(tags=['main_chain'])\n",
    "\n",
    "def print_response(resp):\n",
    "  as_dict = {\n",
    "    'input': resp['input'],\n",
    "    'chat_history': [doc.model_dump() for doc in resp['chat_history']],\n",
    "    'context': [doc.model_dump() for doc in resp['context']],\n",
    "    'answer': resp['answer']\n",
    "  }\n",
    "  print(json.dumps(as_dict, indent=2) + '\\n')"
   ]
  },
  {
   "cell_type": "markdown",
   "metadata": {},
   "source": [
    "#### Output streamer"
   ]
  },
  {
   "cell_type": "code",
   "execution_count": 107,
   "metadata": {},
   "outputs": [],
   "source": [
    "from langchain_core.messages import AIMessageChunk\n",
    "\n",
    "async def generate_chat_events(message, session_id):\n",
    "  \n",
    "  def serialize_aimessagechunk(chunk):\n",
    "    if isinstance(chunk, AIMessageChunk):\n",
    "      return chunk.content\n",
    "    else:\n",
    "      raise TypeError(f'Object of type {type(chunk).__name__} is not correctly formatted for serialization')\n",
    "  \n",
    "  try:\n",
    "    async for event in conversational_rag_chain.astream_events(message, version='v1', config={'configurable': {'session_id': session_id}} ):\n",
    "      # print(event['tags'], event['event'], event.get('data',{}).get('chunk'))\n",
    "      # Only get the answer\n",
    "      sources_tags = ['seq:step:3', 'main_chain']\n",
    "      if all(value in event['tags'] for value in sources_tags) and event['event'] == 'on_chat_model_stream':\n",
    "        chunk_content = serialize_aimessagechunk(event['data']['chunk'])\n",
    "        if len(chunk_content) != 0:\n",
    "          yield chunk_content\n",
    "          \n",
    "  except Exception as e:\n",
    "    print('error'+ str(e))"
   ]
  },
  {
   "cell_type": "markdown",
   "metadata": {},
   "source": [
    "#### Ask question"
   ]
  },
  {
   "cell_type": "code",
   "execution_count": 55,
   "metadata": {},
   "outputs": [
    {
     "name": "stdout",
     "output_type": "stream",
     "text": [
      "{\n",
      "  \"input\": \"what are their hours of operation?\",\n",
      "  \"chat_history\": [\n",
      "    {\n",
      "      \"content\": \"where are the golf courses located?\",\n",
      "      \"additional_kwargs\": {},\n",
      "      \"response_metadata\": {},\n",
      "      \"type\": \"human\",\n",
      "      \"name\": null,\n",
      "      \"id\": null,\n",
      "      \"example\": false\n",
      "    },\n",
      "    {\n",
      "      \"content\": \"The golf courses are located at Hidden Cypress, Okatie Creek, and Argent Lakes.\",\n",
      "      \"additional_kwargs\": {},\n",
      "      \"response_metadata\": {},\n",
      "      \"type\": \"ai\",\n",
      "      \"name\": null,\n",
      "      \"id\": null,\n",
      "      \"example\": false,\n",
      "      \"tool_calls\": [],\n",
      "      \"invalid_tool_calls\": [],\n",
      "      \"usage_metadata\": null\n",
      "    },\n",
      "    {\n",
      "      \"content\": \"where are the golf course addresses?\",\n",
      "      \"additional_kwargs\": {},\n",
      "      \"response_metadata\": {},\n",
      "      \"type\": \"human\",\n",
      "      \"name\": null,\n",
      "      \"id\": null,\n",
      "      \"example\": false\n",
      "    },\n",
      "    {\n",
      "      \"content\": \"The addresses for the golf courses are:\\n\\n- Okatie Creek Golf Course: 60 Sun City Club Lane, Bluffton, SC 29909\\n- Hidden Cypress Golf Course: 671 Cypress Hills Drive, Bluffton, South Carolina 29909\\n\\nThere is no specific address provided for Argent Lakes.\",\n",
      "      \"additional_kwargs\": {},\n",
      "      \"response_metadata\": {},\n",
      "      \"type\": \"ai\",\n",
      "      \"name\": null,\n",
      "      \"id\": null,\n",
      "      \"example\": false,\n",
      "      \"tool_calls\": [],\n",
      "      \"invalid_tool_calls\": [],\n",
      "      \"usage_metadata\": null\n",
      "    },\n",
      "    {\n",
      "      \"content\": \"list the address for each golf course?\",\n",
      "      \"additional_kwargs\": {},\n",
      "      \"response_metadata\": {},\n",
      "      \"type\": \"human\",\n",
      "      \"name\": null,\n",
      "      \"id\": null,\n",
      "      \"example\": false\n",
      "    },\n",
      "    {\n",
      "      \"content\": \"The addresses for the golf courses are:\\n\\n- Okatie Creek Golf Course: 60 Sun City Club Lane, Bluffton, SC 29909\\n- Argent Lakes Golf Course: 1291 Sgt. William Jasper Blvd., N Hardeeville, SC 29927\\n\\nThere is no specific address provided for Hidden Cypress.\",\n",
      "      \"additional_kwargs\": {},\n",
      "      \"response_metadata\": {},\n",
      "      \"type\": \"ai\",\n",
      "      \"name\": null,\n",
      "      \"id\": null,\n",
      "      \"example\": false,\n",
      "      \"tool_calls\": [],\n",
      "      \"invalid_tool_calls\": [],\n",
      "      \"usage_metadata\": null\n",
      "    },\n",
      "    {\n",
      "      \"content\": \"list the address for each golf course?\",\n",
      "      \"additional_kwargs\": {},\n",
      "      \"response_metadata\": {},\n",
      "      \"type\": \"human\",\n",
      "      \"name\": null,\n",
      "      \"id\": null,\n",
      "      \"example\": false\n",
      "    },\n",
      "    {\n",
      "      \"content\": \"Certainly! Here are the addresses for each golf course:\\n\\n- Argent Lakes Golf Course: 1291 Sgt. William Jasper Blvd., N Hardeeville, SC 29927\\n- Hidden Cypress Golf Course: 671 Cypress Hills Drive, Bluffton, South Carolina 29909\\n- Okatie Creek Golf Course: 60 Sun City Club Lane, Bluffton, SC 29909\",\n",
      "      \"additional_kwargs\": {},\n",
      "      \"response_metadata\": {},\n",
      "      \"type\": \"ai\",\n",
      "      \"name\": null,\n",
      "      \"id\": null,\n",
      "      \"example\": false,\n",
      "      \"tool_calls\": [],\n",
      "      \"invalid_tool_calls\": [],\n",
      "      \"usage_metadata\": null\n",
      "    }\n",
      "  ],\n",
      "  \"context\": [\n",
      "    {\n",
      "      \"id\": \"426986882ecd2f098a20337773263a77e08f4f9c1c1448564456c0905463cfcc\",\n",
      "      \"metadata\": {\n",
      "        \"Header 1\": \"2025 SCHH Golf Plans and Rates\",\n",
      "        \"Header 2\": \"Residents & Accompanied Guests\"\n",
      "      },\n",
      "      \"page_content\": \"## Residents & Accompanied Guests  \\n- 18 holes\\n- Okatie Creek and Hidden Cypress\\n- AM: $60\\n- PM: $50\\n- Argent Lakes\\n- AM: $46\\n- PM: $37\\n- 9 holes\\n- Okatie Creek and Hidden Cypress\\n- AM: $40\\n- PM: $34\\n- Argent Lakes\\n- AM: $30\\n- PM: $24\",\n",
      "      \"type\": \"Document\"\n",
      "    },\n",
      "    {\n",
      "      \"id\": \"8ab0ef45f7fc0b348ff23c2fc0e75ce6d7a927b5a44e9b2e9b3ecf464bde278d\",\n",
      "      \"metadata\": {\n",
      "        \"Header 1\": \"Contact Information\"\n",
      "      },\n",
      "      \"page_content\": \"# Contact Information  \\n**Argent Lakes Golf Course**\\nAddress: 1291 Sgt. William Jasper Blvd., N Hardeeville, SC 29927\\nPhone: (843) 645-0507\\nHours: 7 a.m. \\u2013 6 p.m.  \\n**Hidden Cyprus Golf Course**\\nAddress: 671 Cypress Hills Drive , Bluffton, South Carolina 29909\\nPhone: (843) 705-4999\\nHours: 7 a.m. \\u2013 6 p.m.  \\n**Okatie Creek Golf Course**\\nAddress: 60 Sun City Club Lane, Bluffton, SC 29909\\nPhone: (843) 705-4653\\nHours: 7 a.m. \\u2013 6 p.m.\",\n",
      "      \"type\": \"Document\"\n",
      "    },\n",
      "    {\n",
      "      \"id\": \"8dc061b474e896a9f21523cdeeb8655a8efd9af6c56037cda30ecb04a2649dd2\",\n",
      "      \"metadata\": {\n",
      "        \"Header 1\": \"COMMUNITY RULES 2025\",\n",
      "        \"Header 2\": \"5. AMENITIES\"\n",
      "      },\n",
      "      \"page_content\": \"- Abiding by the etiquette of golf as published by the USGA.\\n- Cooperation with starters and rangers including requests regarding pace of play.\\n- Smoking in golf carts is permitted only with the consent of all occupants. Smoking litter is to be properly disposed of and not left on the golf course.  \\n### 5.11. Golf Shops  \\nLocations  \\n- Argent Lakes\\n- Hidden Cypress\\n- Okatie Creek  \\n### 5.12. Hidden Cypress  \\nHidden Cypress is a multi-use facility which includes meeting rooms, ftness center, outdoor pool and spa, golf pro shop, food and beverage area and Wi-Fi capability.  \\n### 5.13. Horseshoes  \\nThe horseshoe facilities are located at New River Sports Park and Lake Somerset. Loaner equipment is available at the New River Sports Park horseshoe pits. Usage is on first come, first served basis during open times when the club is not using this facility. SunSations magazine lists club times under the Horseshoe Club listing in the Chartered Club News section of each issue.\",\n",
      "      \"type\": \"Document\"\n",
      "    },\n",
      "    {\n",
      "      \"id\": \"fd0e04208ac3ef678b220e17f68ea3a0fc522b83aae2aa4c4792a44afaeaddf2\",\n",
      "      \"metadata\": {\n",
      "        \"Header 1\": \"Contact Information\",\n",
      "        \"Header 2\": \"Okatie Creek Golf Course\"\n",
      "      },\n",
      "      \"page_content\": \"## Okatie Creek Golf Course  \\nAddress: 60 Sun City Club Lane, Bluffton, SC 29909\\nPhone: (843) 705-4653\\nHours: 7 a.m. \\u2013 6 p.m.\",\n",
      "      \"type\": \"Document\"\n",
      "    },\n",
      "    {\n",
      "      \"id\": \"ae67fa801331686f292efc17f6822fe73b93cda78eba018e3de9de3ac9949c69\",\n",
      "      \"metadata\": {\n",
      "        \"Header 1\": \"2025 SCHH Golf Plans and Rates\",\n",
      "        \"Header 2\": \"Golf Plans\"\n",
      "      },\n",
      "      \"page_content\": \"## Golf Plans  \\n### 9-Hole  \\n- Plan fee (includes warm up bucket):\\n- Single: $335\\n- Couple: $568\\n- 18 holes\\n- Okatie Creek and Hidden Cypress\\n- AM: $60\\n- PM: $50\\n- Argent Lakes\\n- AM: $46\\n- PM: $37\\n- 9 holes\\n- Okatie Creek and Hidden Cypress\\n- AM: $34\\n- PM: $27\\n- Argent Lakes\\n- AM: $22\\n- PM: $17  \\n### Standard  \\n- Plan fee (includes warm up bucket):\\n- Single: $802\\n- Couple: $1,364\\n- 18 holes\\n- Okatie Creek and Hidden Cypress\\n- AM: $42\\n- PM: $36\\n- Argent Lakes\\n- AM: $33\\n- PM: $26\\n- 9 holes\\n- Okatie Creek and Hidden Cypress\\n- AM: $28\\n- PM: $23\\n- Argent Lakes\\n- AM: $22\\n- PM: $18  \\n### Premium  \\n- Plan fee (unlimited buckets):\\n- Single: $2,638\\n- Couple: $4,481\\n- 18 holes\\n- Okatie Creek and Hidden Cypress\\n- AM: $21\\n- PM: $18\\n- Argent Lakes\\n- AM: $17\\n- PM: $13\\n- 9 holes\\n- Okatie Creek and Hidden Cypress\\n- AM: $14\\n- PM: $12\\n- Argent Lakes\\n- AM: $12\\n- PM: $8\",\n",
      "      \"type\": \"Document\"\n",
      "    }\n",
      "  ],\n",
      "  \"answer\": \"All three golf courses\\u2014Argent Lakes, Hidden Cypress, and Okatie Creek\\u2014are open from 7 a.m. to 6 p.m.\"\n",
      "}\n",
      "\n"
     ]
    }
   ],
   "source": [
    "prompt_1 = 'what are their hours of operation?'\n",
    "sessionid = 'abc124'\n",
    "\n",
    "resp = conversational_rag_chain.invoke(\n",
    "    {'input': prompt_1},\n",
    "    config={\n",
    "        'configurable': {'session_id': sessionid}\n",
    "    },\n",
    ")\n",
    "\n",
    "print_response(resp)\n",
    "\n",
    "# print(resp['answer'])"
   ]
  }
 ],
 "metadata": {
  "kernelspec": {
   "display_name": ".venv",
   "language": "python",
   "name": "python3"
  },
  "language_info": {
   "codemirror_mode": {
    "name": "ipython",
    "version": 3
   },
   "file_extension": ".py",
   "mimetype": "text/x-python",
   "name": "python",
   "nbconvert_exporter": "python",
   "pygments_lexer": "ipython3",
   "version": "3.9.13"
  }
 },
 "nbformat": 4,
 "nbformat_minor": 2
}
