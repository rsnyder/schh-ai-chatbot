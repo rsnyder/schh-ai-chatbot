{
 "cells": [
  {
   "cell_type": "markdown",
   "metadata": {},
   "source": [
    "# Vector testing"
   ]
  },
  {
   "cell_type": "markdown",
   "metadata": {},
   "source": [
    "### Install needed packages"
   ]
  },
  {
   "cell_type": "code",
   "execution_count": 85,
   "metadata": {},
   "outputs": [
    {
     "name": "stdout",
     "output_type": "stream",
     "text": [
      "Note: you may need to restart the kernel to use updated packages.\n"
     ]
    }
   ],
   "source": [
    "%pip install --upgrade --quiet langchain langchain-community langchain-openai python-dotenv requests"
   ]
  },
  {
   "cell_type": "code",
   "execution_count": 1,
   "metadata": {},
   "outputs": [],
   "source": [
    "llm_model_name = 'gpt-4o'\n",
    "embeddings_model_name = 'text-embedding-ada-002'  \n",
    "vectorstore_index_name = 'test1'\n",
    "vectorstore_text_field = 'text'"
   ]
  },
  {
   "cell_type": "markdown",
   "metadata": {},
   "source": [
    "### Load API keys into environment variables"
   ]
  },
  {
   "cell_type": "code",
   "execution_count": 2,
   "metadata": {},
   "outputs": [
    {
     "data": {
      "text/plain": [
       "True"
      ]
     },
     "execution_count": 2,
     "metadata": {},
     "output_type": "execute_result"
    }
   ],
   "source": [
    "from dotenv import load_dotenv\n",
    "load_dotenv()"
   ]
  },
  {
   "cell_type": "markdown",
   "metadata": {},
   "source": [
    "### Split text into chunks"
   ]
  },
  {
   "cell_type": "code",
   "execution_count": 3,
   "metadata": {},
   "outputs": [],
   "source": [
    "from langchain_text_splitters.character import RecursiveCharacterTextSplitter\n",
    "\n",
    "def split_text(text, max_chunk_size=1000, chunk_overlap=200):\n",
    "    # print(f'Splitting text of length {len(text)} into chunks of size {max_chunk_size} with overlap {chunk_overlap}')\n",
    "    r_splitter = RecursiveCharacterTextSplitter(\n",
    "        chunk_size=max_chunk_size, chunk_overlap=chunk_overlap, separators=[\"\\n\\n\", \"\\n\", \" \", \"\"]\n",
    "    )\n",
    "\n",
    "    chunks = r_splitter.split_text(text)\n",
    "    return chunks"
   ]
  },
  {
   "cell_type": "markdown",
   "metadata": {},
   "source": [
    "### Generate embeddings"
   ]
  },
  {
   "cell_type": "code",
   "execution_count": 4,
   "metadata": {},
   "outputs": [
    {
     "name": "stderr",
     "output_type": "stream",
     "text": [
      "/var/folders/19/5vtdrt7j6sldr17bp67lvcqw0000gn/T/ipykernel_32739/949719190.py:5: LangChainDeprecationWarning: The class `OpenAIEmbeddings` was deprecated in LangChain 0.0.9 and will be removed in 1.0. An updated version of the class exists in the :class:`~langchain-openai package and should be used instead. To use it run `pip install -U :class:`~langchain-openai` and import as `from :class:`~langchain_openai import OpenAIEmbeddings``.\n",
      "  embeddings = OpenAIEmbeddings( openai_api_key=os.getenv('OPENAPI_API_KEY') )\n"
     ]
    }
   ],
   "source": [
    "import os\n",
    "from langchain.embeddings import OpenAIEmbeddings\n",
    "\n",
    "# embeddings = OpenAIEmbeddings( model=embeddings_model_name, openai_api_key=os.getenv('OPENAPI_API_KEY') )\n",
    "embeddings = OpenAIEmbeddings( openai_api_key=os.getenv('OPENAPI_API_KEY') )"
   ]
  },
  {
   "cell_type": "markdown",
   "metadata": {},
   "source": [
    "#### Define Pinecone vectorstore index"
   ]
  },
  {
   "cell_type": "code",
   "execution_count": 5,
   "metadata": {},
   "outputs": [
    {
     "name": "stderr",
     "output_type": "stream",
     "text": [
      "/Users/ron/projects/rsnyder/schh-ai-chatbot/.venv/lib/python3.9/site-packages/pinecone/data/index.py:1: TqdmWarning: IProgress not found. Please update jupyter and ipywidgets. See https://ipywidgets.readthedocs.io/en/stable/user_install.html\n",
      "  from tqdm.autonotebook import tqdm\n"
     ]
    }
   ],
   "source": [
    "import os\n",
    "from pinecone import Pinecone\n",
    "\n",
    "pc = Pinecone(api_key=os.getenv('PINECONE_API_KEY'))\n",
    "index = pc.Index(vectorstore_index_name)\n"
   ]
  },
  {
   "cell_type": "markdown",
   "metadata": {},
   "source": [
    "#### Load PDF content into vectorstore"
   ]
  },
  {
   "cell_type": "code",
   "execution_count": 56,
   "metadata": {},
   "outputs": [
    {
     "name": "stdout",
     "output_type": "stream",
     "text": [
      "Pages: 48\n",
      "Splits: 196\n"
     ]
    }
   ],
   "source": [
    "from langchain_chroma import Chroma\n",
    "from langchain_community.document_loaders import PyPDFLoader\n",
    "from langchain_text_splitters import RecursiveCharacterTextSplitter\n",
    "from langchain_openai import OpenAIEmbeddings\n",
    "\n",
    "loader = PyPDFLoader('https://rsnyder.github.io/schh-ai-chatbot/knowledge-base/pdfs/2025ScheduleofFees-websingle.pdf')\n",
    "pages = loader.load()\n",
    "print(f\"Pages: {len(pages)}\")\n",
    "\n",
    "text_splitter = RecursiveCharacterTextSplitter(chunk_size=1000, chunk_overlap=200)\n",
    "splits = text_splitter.split_documents(pages)\n",
    "print(f\"Splits: {len(splits)}\")\n",
    "vectorstore = Chroma.from_documents(documents=splits, embedding=OpenAIEmbeddings())\n",
    "retriever = vectorstore.as_retriever()"
   ]
  },
  {
   "cell_type": "markdown",
   "metadata": {},
   "source": [
    "#### Populate vector store from PDFs"
   ]
  },
  {
   "cell_type": "code",
   "execution_count": 41,
   "metadata": {},
   "outputs": [
    {
     "name": "stdout",
     "output_type": "stream",
     "text": [
      "Pages 48\n",
      "Splits: 196\n",
      "Adding data to Pinecone index...\n",
      "Data added to Pinecone index\n"
     ]
    }
   ],
   "source": [
    "from langchain_community.document_loaders import PyPDFLoader\n",
    "from pinecone import Pinecone\n",
    "import hashlib, os\n",
    "    \n",
    "def generate_short_id(content: str) -> str:\n",
    "    hash_obj = hashlib.sha256()\n",
    "    hash_obj.update(content.encode('utf-8'))\n",
    "    return hash_obj.hexdigest()\n",
    "\n",
    "loader = PyPDFLoader('https://rsnyder.github.io/schh-ai-chatbot/knowledge-base/pdfs/2025ScheduleofFees-websingle.pdf')\n",
    "pages = loader.load()\n",
    "print (f'Pages {len(pages)}')\n",
    "\n",
    "text_splitter = RecursiveCharacterTextSplitter(chunk_size=1000, chunk_overlap=200)\n",
    "docs = text_splitter.split_documents(pages)\n",
    "print(f'Splits: {len(docs)}')\n",
    "\n",
    "doc_embeddings = embeddings.embed_documents([doc.page_content for doc in docs])\n",
    "    \n",
    "data_with_metadata = []\n",
    "\n",
    "for doc, embedding in zip(docs, doc_embeddings):\n",
    "    # Create a data item dictionary\n",
    "    data_item = {\n",
    "        'id': generate_short_id(doc.page_content),\n",
    "        'values': embedding,\n",
    "        'metadata': {'text': doc.page_content},  # Include the text as metadata\n",
    "    }\n",
    "    data_with_metadata.append(data_item)  # Append the data item to the list\n",
    "\n",
    "# print(data_with_metadata)\n",
    "print('Adding data to Pinecone index...')\n",
    "pc = Pinecone(api_key=os.getenv('PINECONE_API_KEY'))\n",
    "index = pc.Index('from-pdfs')\n",
    "index.upsert(vectors=data_with_metadata)\n",
    "print('Data added to Pinecone index')\n",
    "    "
   ]
  },
  {
   "cell_type": "markdown",
   "metadata": {},
   "source": [
    "#### Populate vector store from Markdown"
   ]
  },
  {
   "cell_type": "code",
   "execution_count": null,
   "metadata": {},
   "outputs": [
    {
     "name": "stdout",
     "output_type": "stream",
     "text": [
      "docs=206\n",
      "Adding data to Pinecone index...\n",
      "Data added to Pinecone index\n"
     ]
    }
   ],
   "source": [
    "from langchain_text_splitters import MarkdownHeaderTextSplitter\n",
    "from pinecone import Pinecone\n",
    "import hashlib, json\n",
    "import requests\n",
    "    \n",
    "def generate_short_id(content: str) -> str:\n",
    "    hash_obj = hashlib.sha256()\n",
    "    hash_obj.update(content.encode('utf-8'))\n",
    "    return hash_obj.hexdigest()\n",
    "\n",
    "markdown = requests.get('https://rsnyder.github.io/schh-ai-chatbot/knowledge-base/2025_Schedule_of_Fees_and_Community-Rules.md').text\n",
    "\n",
    "# MD splits\n",
    "md_header_splits = MarkdownHeaderTextSplitter(\n",
    "    headers_to_split_on = [ ('#', 'Header 1'), ('##', 'Header 2') ], \n",
    "    strip_headers=False\n",
    ").split_text(markdown)\n",
    "\n",
    "# Char-level splits\n",
    "docs = RecursiveCharacterTextSplitter(\n",
    "    chunk_size=1000, \n",
    "    chunk_overlap=200\n",
    ").split_documents(md_header_splits)\n",
    "\n",
    "doc_embeddings = embeddings.embed_documents([doc.page_content for doc in docs])\n",
    "    \n",
    "data_with_metadata = []\n",
    "\n",
    "for doc, embedding in zip(docs, doc_embeddings):\n",
    "    # Create a data item dictionary\n",
    "    data_item = {\n",
    "        'id': generate_short_id(doc.page_content),\n",
    "        'values': embedding,\n",
    "        'metadata': doc.metadata | {'text': doc.page_content},  # add text as metadata\n",
    "    }\n",
    "    data_with_metadata.append(data_item)  # Append the data item to the list\n",
    "\n",
    "print('Adding data to Pinecone index...')\n",
    "pc = Pinecone(api_key=os.getenv('PINECONE_API_KEY'))\n",
    "index = pc.Index('from-markdown')\n",
    "index.upsert(vectors=data_with_metadata)\n",
    "print('Data added to Pinecone index')"
   ]
  },
  {
   "cell_type": "markdown",
   "metadata": {},
   "source": [
    "#### Get Vector Store"
   ]
  },
  {
   "cell_type": "code",
   "execution_count": 34,
   "metadata": {},
   "outputs": [],
   "source": [
    "from langchain_pinecone import PineconeVectorStore\n",
    "\n",
    "# load_vectorstore_from_pdf('https://rsnyder.github.io/schh-ai-chatbot/knowledge-base/pdfs/2025ScheduleofFees-websingle.pdf')\n",
    "\n",
    "pc = Pinecone(api_key=os.getenv('PINECONE_API_KEY'))\n",
    "index = pc.Index('from-pdfs')\n",
    "\n",
    "vectorstore = PineconeVectorStore( index, embeddings, vectorstore_text_field )\n",
    "retriever = vectorstore.as_retriever(search_kwargs={'k': 5})"
   ]
  },
  {
   "cell_type": "markdown",
   "metadata": {},
   "source": [
    "#### Define LLM"
   ]
  },
  {
   "cell_type": "code",
   "execution_count": 35,
   "metadata": {},
   "outputs": [],
   "source": [
    "from langchain_openai import ChatOpenAI\n",
    "\n",
    "llm = ChatOpenAI(model=llm_model_name)"
   ]
  },
  {
   "cell_type": "markdown",
   "metadata": {},
   "source": [
    "#### Contextualize question"
   ]
  },
  {
   "cell_type": "code",
   "execution_count": 36,
   "metadata": {},
   "outputs": [],
   "source": [
    "from langchain_core.prompts import ChatPromptTemplate, MessagesPlaceholder\n",
    "from langchain.chains import create_history_aware_retriever\n",
    "\n",
    "contextualize_q_system_prompt = '''Given a chat history and the latest user question \\\n",
    "which might reference context in the chat history, formulate a standalone question \\\n",
    "which can be understood without the chat history. Do NOT answer the question, \\\n",
    "just reformulate it if needed and otherwise return it as is.'''\n",
    "\n",
    "contextualize_q_prompt = ChatPromptTemplate.from_messages(\n",
    "    [\n",
    "        ('system', contextualize_q_system_prompt),\n",
    "        MessagesPlaceholder('chat_history'),\n",
    "        ('human', '{input}'),\n",
    "    ]\n",
    ")\n",
    "history_aware_retriever = create_history_aware_retriever(\n",
    "    llm, retriever, contextualize_q_prompt\n",
    ")"
   ]
  },
  {
   "cell_type": "markdown",
   "metadata": {},
   "source": [
    "#### Answer question"
   ]
  },
  {
   "cell_type": "code",
   "execution_count": 37,
   "metadata": {},
   "outputs": [],
   "source": [
    "from langchain.chains.combine_documents import create_stuff_documents_chain\n",
    "from langchain.chains import create_retrieval_chain\n",
    "from langchain_core.prompts import ChatPromptTemplate, MessagesPlaceholder\n",
    "\n",
    "system_prompt = '''You are an assistant for question-answering tasks. \\\n",
    "Use the following pieces of retrieved context to answer the question. \\\n",
    "If you don't know the answer, just say that you don't know. \\\n",
    "\n",
    "{context}'''\n",
    "\n",
    "qa_prompt = ChatPromptTemplate.from_messages(\n",
    "  [\n",
    "    ('system', system_prompt),\n",
    "    MessagesPlaceholder(variable_name='chat_history'),\n",
    "    ('human', '{input}'),\n",
    "  ]\n",
    ")\n",
    "\n",
    "question_answer_chain = create_stuff_documents_chain(llm, qa_prompt)\n",
    "\n",
    "rag_chain = create_retrieval_chain(history_aware_retriever, question_answer_chain)\n"
   ]
  },
  {
   "cell_type": "markdown",
   "metadata": {},
   "source": [
    "#### Statefully manage chat history"
   ]
  },
  {
   "cell_type": "code",
   "execution_count": 38,
   "metadata": {},
   "outputs": [],
   "source": [
    "import json\n",
    "from langchain_core.runnables.history import RunnableWithMessageHistory\n",
    "from langchain_core.chat_history import BaseChatMessageHistory\n",
    "from langchain_community.chat_message_histories import ChatMessageHistory\n",
    "\n",
    "store = {}\n",
    "\n",
    "def get_session_history(session_id: str) -> BaseChatMessageHistory:\n",
    "    if session_id not in store:\n",
    "        store[session_id] = ChatMessageHistory()\n",
    "    return store[session_id]\n",
    "\n",
    "conversational_rag_chain = RunnableWithMessageHistory(\n",
    "    rag_chain,\n",
    "    get_session_history,\n",
    "    input_messages_key='input',\n",
    "    history_messages_key='chat_history',\n",
    "    output_messages_key='answer',\n",
    ").with_config(tags=['main_chain'])\n",
    "\n",
    "def print_response(resp):\n",
    "  as_dict = {\n",
    "    'input': resp['input'],\n",
    "    'chat_history': [doc.model_dump() for doc in resp['chat_history']],\n",
    "    'context': [doc.model_dump() for doc in resp['context']],\n",
    "    'answer': resp['answer']\n",
    "  }\n",
    "  print(json.dumps(as_dict, indent=2) + '\\n')"
   ]
  },
  {
   "cell_type": "markdown",
   "metadata": {},
   "source": [
    "#### Output streamer"
   ]
  },
  {
   "cell_type": "code",
   "execution_count": 107,
   "metadata": {},
   "outputs": [],
   "source": [
    "from langchain_core.messages import AIMessageChunk\n",
    "\n",
    "async def generate_chat_events(message, session_id):\n",
    "  \n",
    "  def serialize_aimessagechunk(chunk):\n",
    "    if isinstance(chunk, AIMessageChunk):\n",
    "      return chunk.content\n",
    "    else:\n",
    "      raise TypeError(f'Object of type {type(chunk).__name__} is not correctly formatted for serialization')\n",
    "  \n",
    "  try:\n",
    "    async for event in conversational_rag_chain.astream_events(message, version='v1', config={'configurable': {'session_id': session_id}} ):\n",
    "      # print(event['tags'], event['event'], event.get('data',{}).get('chunk'))\n",
    "      # Only get the answer\n",
    "      sources_tags = ['seq:step:3', 'main_chain']\n",
    "      if all(value in event['tags'] for value in sources_tags) and event['event'] == 'on_chat_model_stream':\n",
    "        chunk_content = serialize_aimessagechunk(event['data']['chunk'])\n",
    "        if len(chunk_content) != 0:\n",
    "          yield chunk_content\n",
    "          \n",
    "  except Exception as e:\n",
    "    print('error'+ str(e))"
   ]
  },
  {
   "cell_type": "markdown",
   "metadata": {},
   "source": [
    "#### Ask question"
   ]
  },
  {
   "cell_type": "code",
   "execution_count": 42,
   "metadata": {},
   "outputs": [
    {
     "name": "stdout",
     "output_type": "stream",
     "text": [
      "{\n",
      "  \"input\": \"tell me about golf in sun city\",\n",
      "  \"chat_history\": [\n",
      "    {\n",
      "      \"content\": \"tell me about golfing in sun city\",\n",
      "      \"additional_kwargs\": {},\n",
      "      \"response_metadata\": {},\n",
      "      \"type\": \"human\",\n",
      "      \"name\": null,\n",
      "      \"id\": null,\n",
      "      \"example\": false\n",
      "    },\n",
      "    {\n",
      "      \"content\": \"Sun City, located in the North West Province of South Africa, is renowned for its world-class golfing facilities. The resort offers two prestigious courses designed by the famous golfer Gary Player. \\n\\n1. **Gary Player Country Club**: This course is one of the longest in South Africa and is known for hosting the annual Nedbank Golf Challenge, attracting top professional golfers from around the world. The course is challenging with its narrow fairways and strategically placed bunkers.\\n\\n2. **Lost City Golf Course**: This course is unique with its desert-themed design and features a variety of water hazards. It is famous for the par-3 13th hole, which has a water hazard inhabited by live crocodiles.\\n\\nBoth courses offer stunning views and are integrated into the natural landscape, providing a beautiful setting for a round of golf. Sun City also provides various amenities and facilities for golfers, including a pro shop and clubhouse.\",\n",
      "      \"additional_kwargs\": {},\n",
      "      \"response_metadata\": {},\n",
      "      \"type\": \"ai\",\n",
      "      \"name\": null,\n",
      "      \"id\": null,\n",
      "      \"example\": false,\n",
      "      \"tool_calls\": [],\n",
      "      \"invalid_tool_calls\": [],\n",
      "      \"usage_metadata\": null\n",
      "    },\n",
      "    {\n",
      "      \"content\": \"tell me about pickleball\",\n",
      "      \"additional_kwargs\": {},\n",
      "      \"response_metadata\": {},\n",
      "      \"type\": \"human\",\n",
      "      \"name\": null,\n",
      "      \"id\": null,\n",
      "      \"example\": false\n",
      "    },\n",
      "    {\n",
      "      \"content\": \"Pickleball is a paddle sport that combines elements of tennis, badminton, and table tennis. It is played on a badminton-sized court with a slightly modified tennis net. Players use a paddle and a plastic ball with holes, known as a wiffle ball. The game can be played as singles or doubles, and it's popular among all age groups due to its simple rules and accessibility.\\n\\n**Key Features:**\\n- **Court Dimensions**: A pickleball court is 20 feet wide and 44 feet long for both singles and doubles play, with a non-volley zone called the \\\"kitchen\\\" extending 7 feet from the net on each side.\\n- **Scoring**: Games are typically played to 11 points, and a player or team must win by 2 points.\\n- **Serving**: The serve is underhand and must be made diagonally crosscourt, starting from the right-hand service square.\\n- **Double Bounce Rule**: After the serve, each side must let the ball bounce once before volleys are allowed.\\n\\nPickleball is appreciated for its social and inclusive nature, making it a popular choice for community centers, schools, and retirement communities. It's known for being easy to learn but challenging to master, offering both recreational and competitive play. The sport has been growing rapidly in popularity worldwide, with numerous clubs and tournaments, including national and international championships.\",\n",
      "      \"additional_kwargs\": {},\n",
      "      \"response_metadata\": {},\n",
      "      \"type\": \"ai\",\n",
      "      \"name\": null,\n",
      "      \"id\": null,\n",
      "      \"example\": false,\n",
      "      \"tool_calls\": [],\n",
      "      \"invalid_tool_calls\": [],\n",
      "      \"usage_metadata\": null\n",
      "    }\n",
      "  ],\n",
      "  \"context\": [\n",
      "    {\n",
      "      \"id\": \"4b15a20b35dcedc6f9edcc5c6a43eee99fc9370d079fb4b5a4922994db3c4d97\",\n",
      "      \"metadata\": {},\n",
      "      \"page_content\": \"www.SunCityHiltonHead.org\",\n",
      "      \"type\": \"Document\"\n",
      "    },\n",
      "    {\n",
      "      \"id\": \"3f8ae8697647d801db31f1873bc4db6bd37ca2f297f9e6bf32e8298c26286506\",\n",
      "      \"metadata\": {},\n",
      "      \"page_content\": \"be made through Chelsea Reservation System on the community website at www.SunCityHiltonHead.org . Same \\nday reservations based on availability may be obtained by calling any of the three golf shops.\\n 5.10.1.  Fees\\nThe Board of Directors of the Community Association sets all golf related rates and fees. Rates and fees are subject \\nto change at the discretion of the Board of Directors.\\n 5.10.2.  General Rules \\n\\u2022 Golf carts rented from the golf course may not be driven on Sun City roads. The carts are restricted for use on \\ngolf course paths.\\n\\u2022 Practicing on Sun City golf courses or from private property is forbidden. Practice is limited to the designated \\npractice areas.\\n\\u2022 Every player shall have a set of golf clubs. Sharing of clubs is not permitted.\\n\\u2022 All occupants of golf carts on the golf course shall have paid greens fees and be playing the related round.  \\n\\u2022 Walking, jogging, walking pets and biking or any other non-golf activity on the golf course or its golf paths is\",\n",
      "      \"type\": \"Document\"\n",
      "    },\n",
      "    {\n",
      "      \"id\": \"64f314784ae942c1794b27eb9b0c1e42d1d4264b006a41523e4c9cf4dae89320\",\n",
      "      \"metadata\": {},\n",
      "      \"page_content\": \"www.SunCityHiltonHead.org  |  Schedule of Fees and Community Rules 2025\\n33\\n16.3. Bingo\\nUnder current South Carolina laws, bingo and other games of chance are prohibited on Association property.\\n \\n17. GOLF CARTS: SEE VEHICLES\\n \\n18. GUEST ACCESS AND USE OF FACILITIES  \\n \\nA Guest is defined as a person who visits or stays overnight in a Sun City home and does NOT stay for more than 30 \\ndays in a consecutive 6-month period. Members are responsible for the conduct of their guests. Each activity card \\nholder may extend guest privileges as follows: \\n18.1. Chartered Club Guest   \\nAny Chartered Club desiring to host an approved tournament or league play that will include invited guests from \\noutside the community shall first notify the Director of Lifestyle Services. A list of invited guests or teams, if appli-\\ncable, shall be submitted to the appropriate gate and the Director of Lifestyle Services, the golf professionals, or the\",\n",
      "      \"type\": \"Document\"\n",
      "    },\n",
      "    {\n",
      "      \"id\": \"f463964dc775b88e7db54b29d7dbe86d286f1c35613b2cea2492105d8d690a32\",\n",
      "      \"metadata\": {},\n",
      "      \"page_content\": \"of class changes may result in a fee.\\nFitness instruction on all Association property shall be taught by Sun City Hilton Head Community Association staff \\nand/or approved contractors only. \\nPersons with known medical problems or who are unsure of their physical condition are strongly advised to consult \\nwith their physician(s) before engaging in exercise activity.\\n5.9. Gazebos/Shade Structures \\nThe gazebos are available for use on a first come, first served basis, located near the tennis courts at the Barataria \\noutdoor pool deck and at Lake Somerset. All shade structures are available on a first come, first served basis.  \\n5.10. Golf Courses \\nLocations\\n\\u2022 Hidden Cypress\\n\\u2022 Okatie Creek\\n\\u2022 Argent Lakes \\nOnly residents and their invited guests may play the courses. There is no public access. Reservations can\\nbe made through Chelsea Reservation System on the community website at www.SunCityHiltonHead.org . Same\",\n",
      "      \"type\": \"Document\"\n",
      "    },\n",
      "    {\n",
      "      \"id\": \"e94918010dedd3d00ea9575b17590eaed40a4379d45bf5a2fad58b5d786f9366\",\n",
      "      \"metadata\": {},\n",
      "      \"page_content\": \"www.SunCityHiltonHead.org  |  Schedule of Fees and Community Rules 2025\\n29\\n\\u2022 Bicycles/Tricycles/Electric Bicycles\\n\\u2022 Food\\n\\u2022 Golf Carts/LSVs/Mopeds\\n\\u2022 Glass Containers\\n\\u2022 Jogging\\n\\u2022 Pets \\n\\u2022 Rollerblades/Skateboards/Hoverboards\\n\\u2022 Running\\n\\u2022 Smoking\\n \\nThe Sun City Boulevard entrance will accommodate parking for bicycles only in designated areas. The Colonel \\nThomas Heyward Road entrance will accommodate parking for bicycles, golf carts, and motor vehicles in desig -\\nnated areas. \\n5.29. Volleyball Courts \\nThe volleyball courts are located at New River Sports Park and are available on a first come, first served basis during \\nopen times when the Volleyball Club is not using this facility. SunSations magazine lists club times under the Volley -\\nball Club listing in the Chartered Club News section of each issue.  \\n5.30. Woodworkers Shop and Model Railroad Club Display \\nThe Woodworkers Shop is located on Red Dam Road and is administered by the Woodworkers & Modelmakers\",\n",
      "      \"type\": \"Document\"\n",
      "    }\n",
      "  ],\n",
      "  \"answer\": \"Golfing in Sun City Hilton Head is exclusive to residents and their invited guests, with no public access to the courses. There are three golf courses available:\\n\\n1. **Hidden Cypress**\\n2. **Okatie Creek**\\n3. **Argent Lakes**\\n\\nReservations for these courses can be made through the Chelsea Reservation System on the community website. The Board of Directors of the Community Association sets all golf-related rates and fees, and these are subject to change at their discretion.\\n\\nSome general rules for golfing at Sun City include:\\n- Golf carts rented from the course may not be driven on Sun City roads and are restricted to golf course paths.\\n- Practicing on the courses or from private property is forbidden, limited to designated practice areas.\\n- Every player must have a set of golf clubs, as sharing is not permitted.\\n- All occupants of golf carts on the course must have paid greens fees and be playing the related round.\\n\\nThese guidelines ensure a structured and enjoyable golfing experience for residents and their guests.\"\n",
      "}\n",
      "\n"
     ]
    }
   ],
   "source": [
    "prompt_1 = 'tell me about golf in sun city'\n",
    "sessionid = 'abc124'\n",
    "\n",
    "resp = conversational_rag_chain.invoke(\n",
    "    {'input': prompt_1},\n",
    "    config={\n",
    "        'configurable': {'session_id': sessionid}\n",
    "    },\n",
    ")\n",
    "\n",
    "print_response(resp)\n",
    "\n",
    "# print(resp['answer'])"
   ]
  }
 ],
 "metadata": {
  "kernelspec": {
   "display_name": ".venv",
   "language": "python",
   "name": "python3"
  },
  "language_info": {
   "codemirror_mode": {
    "name": "ipython",
    "version": 3
   },
   "file_extension": ".py",
   "mimetype": "text/x-python",
   "name": "python",
   "nbconvert_exporter": "python",
   "pygments_lexer": "ipython3",
   "version": "3.9.13"
  }
 },
 "nbformat": 4,
 "nbformat_minor": 2
}
